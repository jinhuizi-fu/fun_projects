{
 "cells": [
  {
   "cell_type": "markdown",
   "metadata": {},
   "source": [
    "# Description:\n",
    "\n"
   ]
  },
  {
   "cell_type": "markdown",
   "metadata": {},
   "source": [
    "## 1. Data Source\n",
    "\n",
    "Data was downloaded from this website: http://insideairbnb.com/get-the-data.html, which is sourced from publicly available information from the Airbnb site. \n",
    "\n",
    "* Target area for analysis: Hawaii, Hawaii\n",
    "* Data collection date: 07/07/2020\n",
    "\n",
    "### Data cleaning \n",
    "\n",
    "* remove na rows\n",
    "* remove reviews with type = 'float' (showing as NaN)\n",
    "* remove reviews with length shorter than 10\n",
    "* only keep reviews made in English"
   ]
  },
  {
   "cell_type": "code",
   "execution_count": 1,
   "metadata": {},
   "outputs": [
    {
     "name": "stdout",
     "output_type": "stream",
     "text": [
      "<class 'pandas.core.frame.DataFrame'>\n",
      "RangeIndex: 620548 entries, 0 to 620547\n",
      "Data columns (total 6 columns):\n",
      " #   Column         Non-Null Count   Dtype \n",
      "---  ------         --------------   ----- \n",
      " 0   listing_id     620548 non-null  int64 \n",
      " 1   id             620548 non-null  int64 \n",
      " 2   date           620548 non-null  object\n",
      " 3   reviewer_id    620548 non-null  int64 \n",
      " 4   reviewer_name  620548 non-null  object\n",
      " 5   comments       620290 non-null  object\n",
      "dtypes: int64(3), object(3)\n",
      "memory usage: 28.4+ MB\n"
     ]
    }
   ],
   "source": [
    "# read in customer review data in Hawaii. Data is saved in a Local folder as a .csv file.\n",
    "import pandas as pd\n",
    "\n",
    "df_review=pd.read_csv(\"/Users/fujinhuizi/Documents/GitHub/data/reviews.csv\")\n",
    "df_review.info()\n",
    "# 620,547 rows and 6 columns"
   ]
  },
  {
   "cell_type": "code",
   "execution_count": 2,
   "metadata": {},
   "outputs": [
    {
     "data": {
      "text/html": [
       "<div>\n",
       "<style scoped>\n",
       "    .dataframe tbody tr th:only-of-type {\n",
       "        vertical-align: middle;\n",
       "    }\n",
       "\n",
       "    .dataframe tbody tr th {\n",
       "        vertical-align: top;\n",
       "    }\n",
       "\n",
       "    .dataframe thead th {\n",
       "        text-align: right;\n",
       "    }\n",
       "</style>\n",
       "<table border=\"1\" class=\"dataframe\">\n",
       "  <thead>\n",
       "    <tr style=\"text-align: right;\">\n",
       "      <th></th>\n",
       "      <th>listing_id</th>\n",
       "      <th>id</th>\n",
       "      <th>date</th>\n",
       "      <th>reviewer_id</th>\n",
       "      <th>reviewer_name</th>\n",
       "      <th>comments</th>\n",
       "    </tr>\n",
       "  </thead>\n",
       "  <tbody>\n",
       "    <tr>\n",
       "      <th>0</th>\n",
       "      <td>5065</td>\n",
       "      <td>3578629</td>\n",
       "      <td>2013-02-18</td>\n",
       "      <td>4574728</td>\n",
       "      <td>Terry</td>\n",
       "      <td>The place was difficult to find and communicat...</td>\n",
       "    </tr>\n",
       "    <tr>\n",
       "      <th>1</th>\n",
       "      <td>5065</td>\n",
       "      <td>4412184</td>\n",
       "      <td>2013-05-03</td>\n",
       "      <td>3067352</td>\n",
       "      <td>Olivia</td>\n",
       "      <td>Wayne was very friendly and his place is sweet...</td>\n",
       "    </tr>\n",
       "    <tr>\n",
       "      <th>2</th>\n",
       "      <td>5065</td>\n",
       "      <td>55331648</td>\n",
       "      <td>2015-11-29</td>\n",
       "      <td>33781202</td>\n",
       "      <td>Elspeth And Adam</td>\n",
       "      <td>We loved our time at this BnB! Beautiful surro...</td>\n",
       "    </tr>\n",
       "    <tr>\n",
       "      <th>3</th>\n",
       "      <td>5065</td>\n",
       "      <td>57598810</td>\n",
       "      <td>2015-12-27</td>\n",
       "      <td>12288841</td>\n",
       "      <td>Lydia</td>\n",
       "      <td>The organisation was very uncomplicated,\\r\\nwe...</td>\n",
       "    </tr>\n",
       "    <tr>\n",
       "      <th>4</th>\n",
       "      <td>5065</td>\n",
       "      <td>58905911</td>\n",
       "      <td>2016-01-05</td>\n",
       "      <td>41538214</td>\n",
       "      <td>Andrew</td>\n",
       "      <td>Place was great for what we wanted. Be ready t...</td>\n",
       "    </tr>\n",
       "    <tr>\n",
       "      <th>...</th>\n",
       "      <td>...</td>\n",
       "      <td>...</td>\n",
       "      <td>...</td>\n",
       "      <td>...</td>\n",
       "      <td>...</td>\n",
       "      <td>...</td>\n",
       "    </tr>\n",
       "    <tr>\n",
       "      <th>620543</th>\n",
       "      <td>43862996</td>\n",
       "      <td>635233601</td>\n",
       "      <td>2020-07-05</td>\n",
       "      <td>301920114</td>\n",
       "      <td>Iwalani</td>\n",
       "      <td>Amazing home away from home.</td>\n",
       "    </tr>\n",
       "    <tr>\n",
       "      <th>620544</th>\n",
       "      <td>43872014</td>\n",
       "      <td>633204187</td>\n",
       "      <td>2020-06-28</td>\n",
       "      <td>47237367</td>\n",
       "      <td>Cash</td>\n",
       "      <td>Amazing stay! Very quiet resort! Location was ...</td>\n",
       "    </tr>\n",
       "    <tr>\n",
       "      <th>620545</th>\n",
       "      <td>43894616</td>\n",
       "      <td>634395596</td>\n",
       "      <td>2020-07-03</td>\n",
       "      <td>12832377</td>\n",
       "      <td>Korel</td>\n",
       "      <td>Brittany’s condo was probably the nicest Airbn...</td>\n",
       "    </tr>\n",
       "    <tr>\n",
       "      <th>620546</th>\n",
       "      <td>43894616</td>\n",
       "      <td>635272463</td>\n",
       "      <td>2020-07-05</td>\n",
       "      <td>10157021</td>\n",
       "      <td>Amber</td>\n",
       "      <td>Aloha,\\n\\nBrittany’s place was absolutely perf...</td>\n",
       "    </tr>\n",
       "    <tr>\n",
       "      <th>620547</th>\n",
       "      <td>44021923</td>\n",
       "      <td>634106511</td>\n",
       "      <td>2020-07-02</td>\n",
       "      <td>132583532</td>\n",
       "      <td>Monique</td>\n",
       "      <td>This rental is absolutely beautiful. Loved the...</td>\n",
       "    </tr>\n",
       "  </tbody>\n",
       "</table>\n",
       "<p>620290 rows × 6 columns</p>\n",
       "</div>"
      ],
      "text/plain": [
       "        listing_id         id        date  reviewer_id     reviewer_name  \\\n",
       "0             5065    3578629  2013-02-18      4574728             Terry   \n",
       "1             5065    4412184  2013-05-03      3067352            Olivia   \n",
       "2             5065   55331648  2015-11-29     33781202  Elspeth And Adam   \n",
       "3             5065   57598810  2015-12-27     12288841             Lydia   \n",
       "4             5065   58905911  2016-01-05     41538214            Andrew   \n",
       "...            ...        ...         ...          ...               ...   \n",
       "620543    43862996  635233601  2020-07-05    301920114           Iwalani   \n",
       "620544    43872014  633204187  2020-06-28     47237367              Cash   \n",
       "620545    43894616  634395596  2020-07-03     12832377             Korel   \n",
       "620546    43894616  635272463  2020-07-05     10157021             Amber   \n",
       "620547    44021923  634106511  2020-07-02    132583532           Monique   \n",
       "\n",
       "                                                 comments  \n",
       "0       The place was difficult to find and communicat...  \n",
       "1       Wayne was very friendly and his place is sweet...  \n",
       "2       We loved our time at this BnB! Beautiful surro...  \n",
       "3       The organisation was very uncomplicated,\\r\\nwe...  \n",
       "4       Place was great for what we wanted. Be ready t...  \n",
       "...                                                   ...  \n",
       "620543                       Amazing home away from home.  \n",
       "620544  Amazing stay! Very quiet resort! Location was ...  \n",
       "620545  Brittany’s condo was probably the nicest Airbn...  \n",
       "620546  Aloha,\\n\\nBrittany’s place was absolutely perf...  \n",
       "620547  This rental is absolutely beautiful. Loved the...  \n",
       "\n",
       "[620290 rows x 6 columns]"
      ]
     },
     "execution_count": 2,
     "metadata": {},
     "output_type": "execute_result"
    }
   ],
   "source": [
    "# remove missing \n",
    "df_review.dropna()"
   ]
  },
  {
   "cell_type": "code",
   "execution_count": null,
   "metadata": {},
   "outputs": [],
   "source": [
    "# check types of review column\n",
    "def trans(text):\n",
    "    textresult=type(text).__name__\n",
    "    return(textresult)"
   ]
  },
  {
   "cell_type": "code",
   "execution_count": null,
   "metadata": {},
   "outputs": [],
   "source": [
    "df_review[\"type\"]=df_review.comments.apply(trans)\n",
    "\n",
    "df_review.type.unique()"
   ]
  },
  {
   "cell_type": "code",
   "execution_count": null,
   "metadata": {},
   "outputs": [],
   "source": [
    "# what's the comment like when it's a 'float'?\n",
    "check1 = df_review[df_review.type == 'float']\n",
    "check1\n",
    "# 258 rows, missing comment, safe to remove\n",
    "\n",
    "df_review=df_review[df_review.type == \"str\"]"
   ]
  },
  {
   "cell_type": "code",
   "execution_count": null,
   "metadata": {},
   "outputs": [],
   "source": [
    "df_review[\"len\"]=df_review.comments.apply(len)\n",
    "df_review.head()"
   ]
  },
  {
   "cell_type": "code",
   "execution_count": null,
   "metadata": {},
   "outputs": [],
   "source": [
    "check2 = df_review[df_review.comments == 'NaN']\n",
    "check2"
   ]
  },
  {
   "cell_type": "code",
   "execution_count": null,
   "metadata": {},
   "outputs": [],
   "source": [
    "check3 = df_review[df_review.len < 8]\n",
    "check3"
   ]
  },
  {
   "cell_type": "code",
   "execution_count": null,
   "metadata": {},
   "outputs": [],
   "source": [
    "# remove comments with length < 5\n",
    "df_review=df_review[df_review['len'] >= 5]\n",
    "df_review"
   ]
  },
  {
   "cell_type": "code",
   "execution_count": null,
   "metadata": {},
   "outputs": [],
   "source": [
    "# detect review language - analyze English only \n",
    "from langdetect import detect\n",
    "#test_1 = df_review.head()\n",
    "df_review[\"detect\"]=df_review.comments.apply(detect)"
   ]
  },
  {
   "cell_type": "code",
   "execution_count": null,
   "metadata": {},
   "outputs": [],
   "source": [
    "test_1"
   ]
  },
  {
   "cell_type": "code",
   "execution_count": null,
   "metadata": {},
   "outputs": [],
   "source": []
  }
 ],
 "metadata": {
  "kernelspec": {
   "display_name": "Python 3",
   "language": "python",
   "name": "python3"
  },
  "language_info": {
   "codemirror_mode": {
    "name": "ipython",
    "version": 3
   },
   "file_extension": ".py",
   "mimetype": "text/x-python",
   "name": "python",
   "nbconvert_exporter": "python",
   "pygments_lexer": "ipython3",
   "version": "3.7.6"
  }
 },
 "nbformat": 4,
 "nbformat_minor": 4
}
