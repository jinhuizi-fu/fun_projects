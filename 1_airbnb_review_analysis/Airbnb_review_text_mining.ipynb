{
 "cells": [
  {
   "cell_type": "markdown",
   "metadata": {},
   "source": [
    "# Description:\n",
    "\n"
   ]
  },
  {
   "cell_type": "markdown",
   "metadata": {},
   "source": [
    "## 1. Data Source\n",
    "\n",
    "Data was downloaded from this website: http://insideairbnb.com/get-the-data.html, which is sourced from publicly available information from the Airbnb site. \n",
    "\n",
    "* Target area for analysis: Hawaii, Hawaii\n",
    "* Data collection date: 07/07/2020"
   ]
  },
  {
   "cell_type": "code",
   "execution_count": 11,
   "metadata": {},
   "outputs": [
    {
     "name": "stdout",
     "output_type": "stream",
     "text": [
      "<class 'pandas.core.frame.DataFrame'>\n",
      "RangeIndex: 620548 entries, 0 to 620547\n",
      "Data columns (total 6 columns):\n",
      " #   Column         Non-Null Count   Dtype \n",
      "---  ------         --------------   ----- \n",
      " 0   listing_id     620548 non-null  int64 \n",
      " 1   id             620548 non-null  int64 \n",
      " 2   date           620548 non-null  object\n",
      " 3   reviewer_id    620548 non-null  int64 \n",
      " 4   reviewer_name  620548 non-null  object\n",
      " 5   comments       620290 non-null  object\n",
      "dtypes: int64(3), object(3)\n",
      "memory usage: 28.4+ MB\n"
     ]
    }
   ],
   "source": [
    "# read in customer review data in Hawaii. Data is saved in a Local folder as a .csv file.\n",
    "import pandas as pd\n",
    "\n",
    "df_review=pd.read_csv(\"./reviews.csv\")\n",
    "df_review.info()\n",
    "# 620,548 rows and 5 columns"
   ]
  },
  {
   "cell_type": "code",
   "execution_count": 8,
   "metadata": {},
   "outputs": [
    {
     "data": {
      "text/html": [
       "<div>\n",
       "<style scoped>\n",
       "    .dataframe tbody tr th:only-of-type {\n",
       "        vertical-align: middle;\n",
       "    }\n",
       "\n",
       "    .dataframe tbody tr th {\n",
       "        vertical-align: top;\n",
       "    }\n",
       "\n",
       "    .dataframe thead th {\n",
       "        text-align: right;\n",
       "    }\n",
       "</style>\n",
       "<table border=\"1\" class=\"dataframe\">\n",
       "  <thead>\n",
       "    <tr style=\"text-align: right;\">\n",
       "      <th></th>\n",
       "      <th>listing_id</th>\n",
       "      <th>id</th>\n",
       "      <th>date</th>\n",
       "      <th>reviewer_id</th>\n",
       "      <th>reviewer_name</th>\n",
       "      <th>comments</th>\n",
       "    </tr>\n",
       "  </thead>\n",
       "  <tbody>\n",
       "    <tr>\n",
       "      <th>0</th>\n",
       "      <td>5065</td>\n",
       "      <td>3578629</td>\n",
       "      <td>2013-02-18</td>\n",
       "      <td>4574728</td>\n",
       "      <td>Terry</td>\n",
       "      <td>The place was difficult to find and communicat...</td>\n",
       "    </tr>\n",
       "    <tr>\n",
       "      <th>1</th>\n",
       "      <td>5065</td>\n",
       "      <td>4412184</td>\n",
       "      <td>2013-05-03</td>\n",
       "      <td>3067352</td>\n",
       "      <td>Olivia</td>\n",
       "      <td>Wayne was very friendly and his place is sweet...</td>\n",
       "    </tr>\n",
       "    <tr>\n",
       "      <th>2</th>\n",
       "      <td>5065</td>\n",
       "      <td>55331648</td>\n",
       "      <td>2015-11-29</td>\n",
       "      <td>33781202</td>\n",
       "      <td>Elspeth And Adam</td>\n",
       "      <td>We loved our time at this BnB! Beautiful surro...</td>\n",
       "    </tr>\n",
       "    <tr>\n",
       "      <th>3</th>\n",
       "      <td>5065</td>\n",
       "      <td>57598810</td>\n",
       "      <td>2015-12-27</td>\n",
       "      <td>12288841</td>\n",
       "      <td>Lydia</td>\n",
       "      <td>The organisation was very uncomplicated,\\r\\nwe...</td>\n",
       "    </tr>\n",
       "    <tr>\n",
       "      <th>4</th>\n",
       "      <td>5065</td>\n",
       "      <td>58905911</td>\n",
       "      <td>2016-01-05</td>\n",
       "      <td>41538214</td>\n",
       "      <td>Andrew</td>\n",
       "      <td>Place was great for what we wanted. Be ready t...</td>\n",
       "    </tr>\n",
       "    <tr>\n",
       "      <th>...</th>\n",
       "      <td>...</td>\n",
       "      <td>...</td>\n",
       "      <td>...</td>\n",
       "      <td>...</td>\n",
       "      <td>...</td>\n",
       "      <td>...</td>\n",
       "    </tr>\n",
       "    <tr>\n",
       "      <th>620543</th>\n",
       "      <td>43862996</td>\n",
       "      <td>635233601</td>\n",
       "      <td>2020-07-05</td>\n",
       "      <td>301920114</td>\n",
       "      <td>Iwalani</td>\n",
       "      <td>Amazing home away from home.</td>\n",
       "    </tr>\n",
       "    <tr>\n",
       "      <th>620544</th>\n",
       "      <td>43872014</td>\n",
       "      <td>633204187</td>\n",
       "      <td>2020-06-28</td>\n",
       "      <td>47237367</td>\n",
       "      <td>Cash</td>\n",
       "      <td>Amazing stay! Very quiet resort! Location was ...</td>\n",
       "    </tr>\n",
       "    <tr>\n",
       "      <th>620545</th>\n",
       "      <td>43894616</td>\n",
       "      <td>634395596</td>\n",
       "      <td>2020-07-03</td>\n",
       "      <td>12832377</td>\n",
       "      <td>Korel</td>\n",
       "      <td>Brittany’s condo was probably the nicest Airbn...</td>\n",
       "    </tr>\n",
       "    <tr>\n",
       "      <th>620546</th>\n",
       "      <td>43894616</td>\n",
       "      <td>635272463</td>\n",
       "      <td>2020-07-05</td>\n",
       "      <td>10157021</td>\n",
       "      <td>Amber</td>\n",
       "      <td>Aloha,\\n\\nBrittany’s place was absolutely perf...</td>\n",
       "    </tr>\n",
       "    <tr>\n",
       "      <th>620547</th>\n",
       "      <td>44021923</td>\n",
       "      <td>634106511</td>\n",
       "      <td>2020-07-02</td>\n",
       "      <td>132583532</td>\n",
       "      <td>Monique</td>\n",
       "      <td>This rental is absolutely beautiful. Loved the...</td>\n",
       "    </tr>\n",
       "  </tbody>\n",
       "</table>\n",
       "<p>620290 rows × 6 columns</p>\n",
       "</div>"
      ],
      "text/plain": [
       "        listing_id         id        date  reviewer_id     reviewer_name  \\\n",
       "0             5065    3578629  2013-02-18      4574728             Terry   \n",
       "1             5065    4412184  2013-05-03      3067352            Olivia   \n",
       "2             5065   55331648  2015-11-29     33781202  Elspeth And Adam   \n",
       "3             5065   57598810  2015-12-27     12288841             Lydia   \n",
       "4             5065   58905911  2016-01-05     41538214            Andrew   \n",
       "...            ...        ...         ...          ...               ...   \n",
       "620543    43862996  635233601  2020-07-05    301920114           Iwalani   \n",
       "620544    43872014  633204187  2020-06-28     47237367              Cash   \n",
       "620545    43894616  634395596  2020-07-03     12832377             Korel   \n",
       "620546    43894616  635272463  2020-07-05     10157021             Amber   \n",
       "620547    44021923  634106511  2020-07-02    132583532           Monique   \n",
       "\n",
       "                                                 comments  \n",
       "0       The place was difficult to find and communicat...  \n",
       "1       Wayne was very friendly and his place is sweet...  \n",
       "2       We loved our time at this BnB! Beautiful surro...  \n",
       "3       The organisation was very uncomplicated,\\r\\nwe...  \n",
       "4       Place was great for what we wanted. Be ready t...  \n",
       "...                                                   ...  \n",
       "620543                       Amazing home away from home.  \n",
       "620544  Amazing stay! Very quiet resort! Location was ...  \n",
       "620545  Brittany’s condo was probably the nicest Airbn...  \n",
       "620546  Aloha,\\n\\nBrittany’s place was absolutely perf...  \n",
       "620547  This rental is absolutely beautiful. Loved the...  \n",
       "\n",
       "[620290 rows x 6 columns]"
      ]
     },
     "execution_count": 8,
     "metadata": {},
     "output_type": "execute_result"
    }
   ],
   "source": [
    "# remove missing \n",
    "df_review.dropna()\n",
    "# 620,290 rows left"
   ]
  },
  {
   "cell_type": "code",
   "execution_count": 12,
   "metadata": {},
   "outputs": [
    {
     "ename": "TypeError",
     "evalue": "object of type 'float' has no len()",
     "output_type": "error",
     "traceback": [
      "\u001b[0;31m---------------------------------------------------------------------------\u001b[0m",
      "\u001b[0;31mTypeError\u001b[0m                                 Traceback (most recent call last)",
      "\u001b[0;32m<ipython-input-12-7fb87b9ae0f6>\u001b[0m in \u001b[0;36m<module>\u001b[0;34m\u001b[0m\n\u001b[0;32m----> 1\u001b[0;31m \u001b[0mdf_review\u001b[0m\u001b[0;34m[\u001b[0m\u001b[0;34m\"len\"\u001b[0m\u001b[0;34m]\u001b[0m\u001b[0;34m=\u001b[0m\u001b[0mdf_review\u001b[0m\u001b[0;34m.\u001b[0m\u001b[0mcomments\u001b[0m\u001b[0;34m.\u001b[0m\u001b[0mapply\u001b[0m\u001b[0;34m(\u001b[0m\u001b[0mlen\u001b[0m\u001b[0;34m)\u001b[0m\u001b[0;34m\u001b[0m\u001b[0;34m\u001b[0m\u001b[0m\n\u001b[0m",
      "\u001b[0;32m~/opt/anaconda3/lib/python3.7/site-packages/pandas/core/series.py\u001b[0m in \u001b[0;36mapply\u001b[0;34m(self, func, convert_dtype, args, **kwds)\u001b[0m\n\u001b[1;32m   3846\u001b[0m             \u001b[0;32melse\u001b[0m\u001b[0;34m:\u001b[0m\u001b[0;34m\u001b[0m\u001b[0;34m\u001b[0m\u001b[0m\n\u001b[1;32m   3847\u001b[0m                 \u001b[0mvalues\u001b[0m \u001b[0;34m=\u001b[0m \u001b[0mself\u001b[0m\u001b[0;34m.\u001b[0m\u001b[0mastype\u001b[0m\u001b[0;34m(\u001b[0m\u001b[0mobject\u001b[0m\u001b[0;34m)\u001b[0m\u001b[0;34m.\u001b[0m\u001b[0mvalues\u001b[0m\u001b[0;34m\u001b[0m\u001b[0;34m\u001b[0m\u001b[0m\n\u001b[0;32m-> 3848\u001b[0;31m                 \u001b[0mmapped\u001b[0m \u001b[0;34m=\u001b[0m \u001b[0mlib\u001b[0m\u001b[0;34m.\u001b[0m\u001b[0mmap_infer\u001b[0m\u001b[0;34m(\u001b[0m\u001b[0mvalues\u001b[0m\u001b[0;34m,\u001b[0m \u001b[0mf\u001b[0m\u001b[0;34m,\u001b[0m \u001b[0mconvert\u001b[0m\u001b[0;34m=\u001b[0m\u001b[0mconvert_dtype\u001b[0m\u001b[0;34m)\u001b[0m\u001b[0;34m\u001b[0m\u001b[0;34m\u001b[0m\u001b[0m\n\u001b[0m\u001b[1;32m   3849\u001b[0m \u001b[0;34m\u001b[0m\u001b[0m\n\u001b[1;32m   3850\u001b[0m         \u001b[0;32mif\u001b[0m \u001b[0mlen\u001b[0m\u001b[0;34m(\u001b[0m\u001b[0mmapped\u001b[0m\u001b[0;34m)\u001b[0m \u001b[0;32mand\u001b[0m \u001b[0misinstance\u001b[0m\u001b[0;34m(\u001b[0m\u001b[0mmapped\u001b[0m\u001b[0;34m[\u001b[0m\u001b[0;36m0\u001b[0m\u001b[0;34m]\u001b[0m\u001b[0;34m,\u001b[0m \u001b[0mSeries\u001b[0m\u001b[0;34m)\u001b[0m\u001b[0;34m:\u001b[0m\u001b[0;34m\u001b[0m\u001b[0;34m\u001b[0m\u001b[0m\n",
      "\u001b[0;32mpandas/_libs/lib.pyx\u001b[0m in \u001b[0;36mpandas._libs.lib.map_infer\u001b[0;34m()\u001b[0m\n",
      "\u001b[0;31mTypeError\u001b[0m: object of type 'float' has no len()"
     ]
    }
   ],
   "source": [
    "df_review[\"len\"]=df_review.comments.apply(len)"
   ]
  },
  {
   "cell_type": "code",
   "execution_count": 15,
   "metadata": {},
   "outputs": [],
   "source": [
    "# detect review language - analyze English only \n",
    "from langdetect import detect\n",
    "\n"
   ]
  },
  {
   "cell_type": "code",
   "execution_count": null,
   "metadata": {},
   "outputs": [],
   "source": []
  }
 ],
 "metadata": {
  "kernelspec": {
   "display_name": "Python 3",
   "language": "python",
   "name": "python3"
  },
  "language_info": {
   "codemirror_mode": {
    "name": "ipython",
    "version": 3
   },
   "file_extension": ".py",
   "mimetype": "text/x-python",
   "name": "python",
   "nbconvert_exporter": "python",
   "pygments_lexer": "ipython3",
   "version": "3.7.6"
  }
 },
 "nbformat": 4,
 "nbformat_minor": 4
}
