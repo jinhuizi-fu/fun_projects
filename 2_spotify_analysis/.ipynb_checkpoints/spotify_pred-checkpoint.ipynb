{
 "cells": [
  {
   "cell_type": "markdown",
   "metadata": {},
   "source": [
    "# Description\n",
    "\n",
    "**Goal**: I want to find out what makes a playlist successful, and try to predict how successful a playlist will be based on its known features. (Future idea may be to generate a playlist that might be successful.)\n",
    "\n",
    "*Successful*: defined as number of followers, in this exercise."
   ]
  },
  {
   "cell_type": "markdown",
   "metadata": {},
   "source": [
    "## Step 1: Data Preparation\n",
    "\n",
    "Connect to Spotify and download all \"featured\" playlist"
   ]
  },
  {
   "cell_type": "code",
   "execution_count": 1,
   "metadata": {},
   "outputs": [],
   "source": [
    "# Import Packages\n",
    "import spotipy\n",
    "import requests\n",
    "import sys\n",
    "import spotipy.util as util\n",
    "from spotipy.oauth2 import SpotifyClientCredentials\n",
    "import numpy as np\n",
    "import random\n",
    "import pandas as pd\n",
    "import matplotlib\n",
    "import matplotlib.pyplot as plt\n",
    "import json\n",
    "import time\n",
    "import sys\n",
    "import urllib\n",
    "from sklearn.preprocessing import MultiLabelBinarizer"
   ]
  },
  {
   "cell_type": "code",
   "execution_count": 2,
   "metadata": {},
   "outputs": [],
   "source": [
    "# ID and Password for accessing Spotify API\n",
    "client_id = \"\"\n",
    "client_secret = \"\"\n",
    "\n",
    "# Setup the credentials\n",
    "client_credentials_manager = SpotifyClientCredentials(client_id=client_id, client_secret=client_secret)\n",
    "\n",
    "# Make the connection\n",
    "sp = spotipy.Spotify(client_credentials_manager=client_credentials_manager)"
   ]
  },
  {
   "cell_type": "code",
   "execution_count": 3,
   "metadata": {},
   "outputs": [],
   "source": [
    "# Get all spotify playlists\n",
    "playlists = sp.user_playlists('spotify')\n",
    "\n",
    "# Empty list to hold playlist information\n",
    "spotify_playlists = []\n",
    "\n",
    "# Loop to get data for each playlist\n",
    "while playlists:\n",
    "    \n",
    "    for i, playlist in enumerate(playlists['items']):\n",
    "        names = playlist['name']\n",
    "        track_count = playlist['tracks']['total']\n",
    "        ids = playlist['id']\n",
    "        uri = playlist['uri']\n",
    "        href = playlist['href']\n",
    "        public = playlist['public']\n",
    "        data_aggregation = names, track_count, ids, uri, href, public\n",
    "        spotify_playlists.append(data_aggregation)\n",
    "        \n",
    "    if playlists['next']:\n",
    "        playlists = sp.next(playlists)\n",
    "    \n",
    "    else:\n",
    "        playlists = None"
   ]
  },
  {
   "cell_type": "code",
   "execution_count": 4,
   "metadata": {},
   "outputs": [
    {
     "data": {
      "text/html": [
       "<div>\n",
       "<style scoped>\n",
       "    .dataframe tbody tr th:only-of-type {\n",
       "        vertical-align: middle;\n",
       "    }\n",
       "\n",
       "    .dataframe tbody tr th {\n",
       "        vertical-align: top;\n",
       "    }\n",
       "\n",
       "    .dataframe thead th {\n",
       "        text-align: right;\n",
       "    }\n",
       "</style>\n",
       "<table border=\"1\" class=\"dataframe\">\n",
       "  <thead>\n",
       "    <tr style=\"text-align: right;\">\n",
       "      <th></th>\n",
       "      <th>Name</th>\n",
       "      <th>No. of Tracks</th>\n",
       "      <th>ID</th>\n",
       "      <th>URI</th>\n",
       "      <th>HREF</th>\n",
       "      <th>Public</th>\n",
       "    </tr>\n",
       "  </thead>\n",
       "  <tbody>\n",
       "    <tr>\n",
       "      <th>0</th>\n",
       "      <td>Today's Top Hits</td>\n",
       "      <td>50</td>\n",
       "      <td>37i9dQZF1DXcBWIGoYBM5M</td>\n",
       "      <td>spotify:playlist:37i9dQZF1DXcBWIGoYBM5M</td>\n",
       "      <td>https://api.spotify.com/v1/playlists/37i9dQZF1...</td>\n",
       "      <td>True</td>\n",
       "    </tr>\n",
       "    <tr>\n",
       "      <th>1</th>\n",
       "      <td>RapCaviar</td>\n",
       "      <td>50</td>\n",
       "      <td>37i9dQZF1DX0XUsuxWHRQd</td>\n",
       "      <td>spotify:playlist:37i9dQZF1DX0XUsuxWHRQd</td>\n",
       "      <td>https://api.spotify.com/v1/playlists/37i9dQZF1...</td>\n",
       "      <td>True</td>\n",
       "    </tr>\n",
       "    <tr>\n",
       "      <th>2</th>\n",
       "      <td>Hot Country</td>\n",
       "      <td>56</td>\n",
       "      <td>37i9dQZF1DX1lVhptIYRda</td>\n",
       "      <td>spotify:playlist:37i9dQZF1DX1lVhptIYRda</td>\n",
       "      <td>https://api.spotify.com/v1/playlists/37i9dQZF1...</td>\n",
       "      <td>True</td>\n",
       "    </tr>\n",
       "    <tr>\n",
       "      <th>3</th>\n",
       "      <td>¡Viva Latino!</td>\n",
       "      <td>50</td>\n",
       "      <td>37i9dQZF1DX10zKzsJ2jva</td>\n",
       "      <td>spotify:playlist:37i9dQZF1DX10zKzsJ2jva</td>\n",
       "      <td>https://api.spotify.com/v1/playlists/37i9dQZF1...</td>\n",
       "      <td>True</td>\n",
       "    </tr>\n",
       "    <tr>\n",
       "      <th>4</th>\n",
       "      <td>New Music Friday</td>\n",
       "      <td>100</td>\n",
       "      <td>37i9dQZF1DX4JAvHpjipBk</td>\n",
       "      <td>spotify:playlist:37i9dQZF1DX4JAvHpjipBk</td>\n",
       "      <td>https://api.spotify.com/v1/playlists/37i9dQZF1...</td>\n",
       "      <td>True</td>\n",
       "    </tr>\n",
       "  </tbody>\n",
       "</table>\n",
       "</div>"
      ],
      "text/plain": [
       "               Name No. of Tracks                      ID  \\\n",
       "0  Today's Top Hits            50  37i9dQZF1DXcBWIGoYBM5M   \n",
       "1         RapCaviar            50  37i9dQZF1DX0XUsuxWHRQd   \n",
       "2       Hot Country            56  37i9dQZF1DX1lVhptIYRda   \n",
       "3     ¡Viva Latino!            50  37i9dQZF1DX10zKzsJ2jva   \n",
       "4  New Music Friday           100  37i9dQZF1DX4JAvHpjipBk   \n",
       "\n",
       "                                       URI  \\\n",
       "0  spotify:playlist:37i9dQZF1DXcBWIGoYBM5M   \n",
       "1  spotify:playlist:37i9dQZF1DX0XUsuxWHRQd   \n",
       "2  spotify:playlist:37i9dQZF1DX1lVhptIYRda   \n",
       "3  spotify:playlist:37i9dQZF1DX10zKzsJ2jva   \n",
       "4  spotify:playlist:37i9dQZF1DX4JAvHpjipBk   \n",
       "\n",
       "                                                HREF Public  \n",
       "0  https://api.spotify.com/v1/playlists/37i9dQZF1...   True  \n",
       "1  https://api.spotify.com/v1/playlists/37i9dQZF1...   True  \n",
       "2  https://api.spotify.com/v1/playlists/37i9dQZF1...   True  \n",
       "3  https://api.spotify.com/v1/playlists/37i9dQZF1...   True  \n",
       "4  https://api.spotify.com/v1/playlists/37i9dQZF1...   True  "
      ]
     },
     "execution_count": 4,
     "metadata": {},
     "output_type": "execute_result"
    }
   ],
   "source": [
    "# Convert list into a dataframe\n",
    "data = pd.DataFrame(np.array(spotify_playlists).reshape(len(spotify_playlists),6), \n",
    "                    columns=['Name', 'No. of Tracks', 'ID', 'URI', 'HREF', 'Public'])\n",
    "data.head()"
   ]
  },
  {
   "cell_type": "code",
   "execution_count": 6,
   "metadata": {},
   "outputs": [],
   "source": [
    "data['No. of Tracks'] = data['No. of Tracks'].apply(pd.to_numeric, errors='coerce')"
   ]
  },
  {
   "cell_type": "code",
   "execution_count": 7,
   "metadata": {},
   "outputs": [
    {
     "data": {
      "text/plain": [
       "Name             object\n",
       "No. of Tracks     int64\n",
       "ID               object\n",
       "URI              object\n",
       "HREF             object\n",
       "Public           object\n",
       "dtype: object"
      ]
     },
     "execution_count": 7,
     "metadata": {},
     "output_type": "execute_result"
    }
   ],
   "source": [
    "data.dtypes"
   ]
  },
  {
   "cell_type": "code",
   "execution_count": 9,
   "metadata": {},
   "outputs": [],
   "source": [
    "# Pull the number of followers per playlist\n",
    "playlist_follower = []\n",
    "\n",
    "# Loop over playlists and get followers\n",
    "for i in range(0, len(data['URI'])-1): \n",
    "    \n",
    "    # If number of followers is greater than 0\n",
    "    if data['No. of Tracks'][i] > 0:\n",
    "        #uri = data['URI'][i]\n",
    "        username = 'user'\n",
    "        playlist_id = data['ID'][i]\n",
    "        #playlist_id = uri.split(':')[2]\n",
    "        results = sp.user_playlist(username, playlist_id)\n",
    "        followers = results['followers']['total']\n",
    "        playlist_follower.append(followers)\n",
    "    \n",
    "    # If follower count is 0, append 0   \n",
    "    else: \n",
    "        followers = 0\n",
    "        playlist_follower.append(followers)"
   ]
  },
  {
   "cell_type": "code",
   "execution_count": 10,
   "metadata": {},
   "outputs": [
    {
     "data": {
      "text/html": [
       "<div>\n",
       "<style scoped>\n",
       "    .dataframe tbody tr th:only-of-type {\n",
       "        vertical-align: middle;\n",
       "    }\n",
       "\n",
       "    .dataframe tbody tr th {\n",
       "        vertical-align: top;\n",
       "    }\n",
       "\n",
       "    .dataframe thead th {\n",
       "        text-align: right;\n",
       "    }\n",
       "</style>\n",
       "<table border=\"1\" class=\"dataframe\">\n",
       "  <thead>\n",
       "    <tr style=\"text-align: right;\">\n",
       "      <th></th>\n",
       "      <th>Name</th>\n",
       "      <th>No. of Tracks</th>\n",
       "      <th>ID</th>\n",
       "      <th>URI</th>\n",
       "      <th>HREF</th>\n",
       "      <th>Public</th>\n",
       "      <th>Followers</th>\n",
       "    </tr>\n",
       "  </thead>\n",
       "  <tbody>\n",
       "    <tr>\n",
       "      <th>0</th>\n",
       "      <td>Today's Top Hits</td>\n",
       "      <td>50</td>\n",
       "      <td>37i9dQZF1DXcBWIGoYBM5M</td>\n",
       "      <td>spotify:playlist:37i9dQZF1DXcBWIGoYBM5M</td>\n",
       "      <td>https://api.spotify.com/v1/playlists/37i9dQZF1...</td>\n",
       "      <td>True</td>\n",
       "      <td>26794529.0</td>\n",
       "    </tr>\n",
       "    <tr>\n",
       "      <th>1</th>\n",
       "      <td>RapCaviar</td>\n",
       "      <td>50</td>\n",
       "      <td>37i9dQZF1DX0XUsuxWHRQd</td>\n",
       "      <td>spotify:playlist:37i9dQZF1DX0XUsuxWHRQd</td>\n",
       "      <td>https://api.spotify.com/v1/playlists/37i9dQZF1...</td>\n",
       "      <td>True</td>\n",
       "      <td>13359713.0</td>\n",
       "    </tr>\n",
       "    <tr>\n",
       "      <th>2</th>\n",
       "      <td>Hot Country</td>\n",
       "      <td>56</td>\n",
       "      <td>37i9dQZF1DX1lVhptIYRda</td>\n",
       "      <td>spotify:playlist:37i9dQZF1DX1lVhptIYRda</td>\n",
       "      <td>https://api.spotify.com/v1/playlists/37i9dQZF1...</td>\n",
       "      <td>True</td>\n",
       "      <td>5924405.0</td>\n",
       "    </tr>\n",
       "    <tr>\n",
       "      <th>3</th>\n",
       "      <td>¡Viva Latino!</td>\n",
       "      <td>50</td>\n",
       "      <td>37i9dQZF1DX10zKzsJ2jva</td>\n",
       "      <td>spotify:playlist:37i9dQZF1DX10zKzsJ2jva</td>\n",
       "      <td>https://api.spotify.com/v1/playlists/37i9dQZF1...</td>\n",
       "      <td>True</td>\n",
       "      <td>10649317.0</td>\n",
       "    </tr>\n",
       "    <tr>\n",
       "      <th>4</th>\n",
       "      <td>New Music Friday</td>\n",
       "      <td>100</td>\n",
       "      <td>37i9dQZF1DX4JAvHpjipBk</td>\n",
       "      <td>spotify:playlist:37i9dQZF1DX4JAvHpjipBk</td>\n",
       "      <td>https://api.spotify.com/v1/playlists/37i9dQZF1...</td>\n",
       "      <td>True</td>\n",
       "      <td>3679444.0</td>\n",
       "    </tr>\n",
       "  </tbody>\n",
       "</table>\n",
       "</div>"
      ],
      "text/plain": [
       "               Name  No. of Tracks                      ID  \\\n",
       "0  Today's Top Hits             50  37i9dQZF1DXcBWIGoYBM5M   \n",
       "1         RapCaviar             50  37i9dQZF1DX0XUsuxWHRQd   \n",
       "2       Hot Country             56  37i9dQZF1DX1lVhptIYRda   \n",
       "3     ¡Viva Latino!             50  37i9dQZF1DX10zKzsJ2jva   \n",
       "4  New Music Friday            100  37i9dQZF1DX4JAvHpjipBk   \n",
       "\n",
       "                                       URI  \\\n",
       "0  spotify:playlist:37i9dQZF1DXcBWIGoYBM5M   \n",
       "1  spotify:playlist:37i9dQZF1DX0XUsuxWHRQd   \n",
       "2  spotify:playlist:37i9dQZF1DX1lVhptIYRda   \n",
       "3  spotify:playlist:37i9dQZF1DX10zKzsJ2jva   \n",
       "4  spotify:playlist:37i9dQZF1DX4JAvHpjipBk   \n",
       "\n",
       "                                                HREF Public   Followers  \n",
       "0  https://api.spotify.com/v1/playlists/37i9dQZF1...   True  26794529.0  \n",
       "1  https://api.spotify.com/v1/playlists/37i9dQZF1...   True  13359713.0  \n",
       "2  https://api.spotify.com/v1/playlists/37i9dQZF1...   True   5924405.0  \n",
       "3  https://api.spotify.com/v1/playlists/37i9dQZF1...   True  10649317.0  \n",
       "4  https://api.spotify.com/v1/playlists/37i9dQZF1...   True   3679444.0  "
      ]
     },
     "execution_count": 10,
     "metadata": {},
     "output_type": "execute_result"
    }
   ],
   "source": [
    "# Add a new column for followers \n",
    "data['Followers'] = pd.DataFrame({'Followers': playlist_follower})\n",
    "data.head()"
   ]
  },
  {
   "cell_type": "code",
   "execution_count": 11,
   "metadata": {},
   "outputs": [],
   "source": [
    "# save a copy of this data as a csv file\n",
    "data.to_csv(\"/Users/fujinhuizi/Documents/GitHub/data/spotify/spotify_pl.csv\")"
   ]
  },
  {
   "cell_type": "markdown",
   "metadata": {},
   "source": [
    "Now we have our **response variable**: number of Followers. \n",
    "\n",
    "Some questions comes to mind:\n",
    "\n",
    "* What's the distribution of it?\n",
    "* What might be a contributing factor for a playlist to be successful?\n",
    "\n",
    "For the 1st question, we can look at some basic statistics. \n",
    "\n",
    "For the 2nd question, some brainstorming ideas as follows:\n",
    "\n",
    "* Number of tracks\n",
    "* Genre (to quantify, maybe pop%, dance%, EDA%, genre count, etc.)\n",
    "* Mean value of the features of the tracks (e.g. danceability, valence, tempo, etc.)\n",
    "* Mean popularity of the tracks\n",
    "* Artists (to quantify, maybe most popular artist %, Justin Bieber %, etc.)\n",
    "\n",
    "...\n"
   ]
  },
  {
   "cell_type": "code",
   "execution_count": 13,
   "metadata": {},
   "outputs": [
    {
     "data": {
      "text/html": [
       "<div>\n",
       "<style scoped>\n",
       "    .dataframe tbody tr th:only-of-type {\n",
       "        vertical-align: middle;\n",
       "    }\n",
       "\n",
       "    .dataframe tbody tr th {\n",
       "        vertical-align: top;\n",
       "    }\n",
       "\n",
       "    .dataframe thead th {\n",
       "        text-align: right;\n",
       "    }\n",
       "</style>\n",
       "<table border=\"1\" class=\"dataframe\">\n",
       "  <thead>\n",
       "    <tr style=\"text-align: right;\">\n",
       "      <th></th>\n",
       "      <th>No. of Tracks</th>\n",
       "      <th>Followers</th>\n",
       "    </tr>\n",
       "  </thead>\n",
       "  <tbody>\n",
       "    <tr>\n",
       "      <th>count</th>\n",
       "      <td>1437</td>\n",
       "      <td>1436</td>\n",
       "    </tr>\n",
       "    <tr>\n",
       "      <th>mean</th>\n",
       "      <td>72.2853</td>\n",
       "      <td>511081</td>\n",
       "    </tr>\n",
       "    <tr>\n",
       "      <th>std</th>\n",
       "      <td>61.7223</td>\n",
       "      <td>1.32412e+06</td>\n",
       "    </tr>\n",
       "    <tr>\n",
       "      <th>min</th>\n",
       "      <td>0</td>\n",
       "      <td>0</td>\n",
       "    </tr>\n",
       "    <tr>\n",
       "      <th>25%</th>\n",
       "      <td>42</td>\n",
       "      <td>5595.75</td>\n",
       "    </tr>\n",
       "    <tr>\n",
       "      <th>50%</th>\n",
       "      <td>53</td>\n",
       "      <td>110410</td>\n",
       "    </tr>\n",
       "    <tr>\n",
       "      <th>75%</th>\n",
       "      <td>88</td>\n",
       "      <td>473496</td>\n",
       "    </tr>\n",
       "    <tr>\n",
       "      <th>max</th>\n",
       "      <td>851</td>\n",
       "      <td>2.67945e+07</td>\n",
       "    </tr>\n",
       "  </tbody>\n",
       "</table>\n",
       "</div>"
      ],
      "text/plain": [
       "      No. of Tracks    Followers\n",
       "count          1437         1436\n",
       "mean        72.2853       511081\n",
       "std         61.7223  1.32412e+06\n",
       "min               0            0\n",
       "25%              42      5595.75\n",
       "50%              53       110410\n",
       "75%              88       473496\n",
       "max             851  2.67945e+07"
      ]
     },
     "execution_count": 13,
     "metadata": {},
     "output_type": "execute_result"
    }
   ],
   "source": [
    "# basic statistics of the numeric columns. Use non-scientific notation for easier reading\n",
    "data.describe().apply(lambda s: s.apply(lambda x: format(x, 'g')))"
   ]
  },
  {
   "cell_type": "markdown",
   "metadata": {},
   "source": [
    "Some findings from the statistics above:\n",
    "\n",
    "* One of the records has number of followers missing, we may want to exclude it.\n",
    "* There are playlists with 0 tracks in it. We may want to remove it from the list.\n",
    "* Biggest playlist has 851 songs in it!\n",
    "* Most popular playlist has 268 million followers, average is 0.5 million."
   ]
  },
  {
   "cell_type": "code",
   "execution_count": null,
   "metadata": {},
   "outputs": [],
   "source": [
    "# clean up list: remove missing follower record\n"
   ]
  },
  {
   "cell_type": "code",
   "execution_count": null,
   "metadata": {},
   "outputs": [],
   "source": []
  },
  {
   "cell_type": "code",
   "execution_count": 1,
   "metadata": {},
   "outputs": [],
   "source": [
    "# New function to get tracks in playlist\n",
    "def get_playlist_tracks(username, playlist_id):\n",
    "    results = sp.user_playlist_tracks(username, playlist_id)\n",
    "    tracks = results['items']\n",
    "    while results['next']:\n",
    "        results = sp.next(results)\n",
    "        tracks.extend(results['items'])\n",
    "    return tracks"
   ]
  },
  {
   "cell_type": "markdown",
   "metadata": {},
   "source": [
    "Running the feature extraction from Spotify could take a significant amount of time and also tend to raise errors in the process. To avoid losing information when such error occurs, a dictionary is used in cache memory."
   ]
  },
  {
   "cell_type": "code",
   "execution_count": 2,
   "metadata": {},
   "outputs": [
    {
     "ename": "NameError",
     "evalue": "name 'data' is not defined",
     "output_type": "error",
     "traceback": [
      "\u001b[0;31m---------------------------------------------------------------------------\u001b[0m",
      "\u001b[0;31mNameError\u001b[0m                                 Traceback (most recent call last)",
      "\u001b[0;32m<ipython-input-2-db25ae2d615e>\u001b[0m in \u001b[0;36m<module>\u001b[0;34m\u001b[0m\n\u001b[1;32m      1\u001b[0m \u001b[0;31m# Subsample of data to pull\u001b[0m\u001b[0;34m\u001b[0m\u001b[0;34m\u001b[0m\u001b[0;34m\u001b[0m\u001b[0m\n\u001b[0;32m----> 2\u001b[0;31m \u001b[0mSpotify_playlists\u001b[0m \u001b[0;34m=\u001b[0m \u001b[0mdata\u001b[0m\u001b[0;34m.\u001b[0m\u001b[0miloc\u001b[0m\u001b[0;34m[\u001b[0m\u001b[0;36m0\u001b[0m\u001b[0;34m:\u001b[0m\u001b[0;36m10\u001b[0m\u001b[0;34m]\u001b[0m\u001b[0;34m\u001b[0m\u001b[0;34m\u001b[0m\u001b[0m\n\u001b[0m\u001b[1;32m      3\u001b[0m \u001b[0;34m\u001b[0m\u001b[0m\n\u001b[1;32m      4\u001b[0m \u001b[0;31m# Create playlist cache in memory\u001b[0m\u001b[0;34m\u001b[0m\u001b[0;34m\u001b[0m\u001b[0;34m\u001b[0m\u001b[0m\n\u001b[1;32m      5\u001b[0m \u001b[0mplaylist_tracks\u001b[0m \u001b[0;34m=\u001b[0m \u001b[0mdict\u001b[0m\u001b[0;34m(\u001b[0m\u001b[0;34m)\u001b[0m\u001b[0;34m\u001b[0m\u001b[0;34m\u001b[0m\u001b[0m\n",
      "\u001b[0;31mNameError\u001b[0m: name 'data' is not defined"
     ]
    }
   ],
   "source": [
    "# Subsample of data to pull\n",
    "Spotify_playlists = data.iloc[0:10]\n",
    "\n",
    "# Create playlist cache in memory\n",
    "playlist_tracks = dict()"
   ]
  },
  {
   "cell_type": "code",
   "execution_count": null,
   "metadata": {},
   "outputs": [],
   "source": [
    "# Collect audio features per track per playlist\n",
    "for playlist in Spotify_playlists[\"ID\"]:\n",
    "    if Spotify_playlists.loc[Spotify_playlists['ID'] == playlist, 'No. of Tracks'].item() > 0:\n",
    "        try:\n",
    "            playlist_tracks[playlist] = get_playlist_tracks('spotify', playlist)\n",
    "            time.sleep(random.randint(1, 3))\n",
    "        except:\n",
    "            pass"
   ]
  },
  {
   "cell_type": "code",
   "execution_count": null,
   "metadata": {},
   "outputs": [],
   "source": [
    "# Define an example list of songs for the first 10 playlists\n",
    "songs_playlist = []\n",
    "\n",
    "for item,playlist in enumerate(playlist_tracks):\n",
    "    track_len = len(playlist_tracks[playlist])\n",
    "    for song_item,song in enumerate(playlist_tracks[playlist]):\n",
    "        songs_playlist.append((playlist,playlist_tracks[playlist][song_item]['track']['id']))\n",
    "        \n",
    "print(\"Number of Songs in Playlists: {}\".format(len(songs_playlist)))"
   ]
  },
  {
   "cell_type": "code",
   "execution_count": null,
   "metadata": {},
   "outputs": [],
   "source": [
    "# Create audio feature dictionary and set sleeping time thresholds\n",
    "songs = [item[1] for item in songs_playlist]\n",
    "\n",
    "audio_feat = dict()\n",
    "limit_songs_small = 10\n",
    "limit_songs_medium = 200"
   ]
  },
  {
   "cell_type": "code",
   "execution_count": null,
   "metadata": {},
   "outputs": [],
   "source": []
  },
  {
   "cell_type": "code",
   "execution_count": null,
   "metadata": {},
   "outputs": [],
   "source": []
  },
  {
   "cell_type": "code",
   "execution_count": null,
   "metadata": {},
   "outputs": [],
   "source": []
  },
  {
   "cell_type": "code",
   "execution_count": null,
   "metadata": {},
   "outputs": [],
   "source": []
  },
  {
   "cell_type": "code",
   "execution_count": null,
   "metadata": {},
   "outputs": [],
   "source": []
  },
  {
   "cell_type": "code",
   "execution_count": null,
   "metadata": {},
   "outputs": [],
   "source": []
  }
 ],
 "metadata": {
  "kernelspec": {
   "display_name": "Python 3",
   "language": "python",
   "name": "python3"
  },
  "language_info": {
   "codemirror_mode": {
    "name": "ipython",
    "version": 3
   },
   "file_extension": ".py",
   "mimetype": "text/x-python",
   "name": "python",
   "nbconvert_exporter": "python",
   "pygments_lexer": "ipython3",
   "version": "3.7.6"
  }
 },
 "nbformat": 4,
 "nbformat_minor": 4
}
